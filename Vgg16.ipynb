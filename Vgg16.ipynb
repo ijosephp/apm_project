{
  "nbformat": 4,
  "nbformat_minor": 0,
  "metadata": {
    "colab": {
      "name": "Vgg16.ipynb",
      "provenance": [],
      "collapsed_sections": []
    },
    "kernelspec": {
      "name": "python3",
      "display_name": "Python 3"
    },
    "accelerator": "GPU"
  },
  "cells": [
    {
      "cell_type": "code",
      "metadata": {
        "id": "OlAs6cU4Yff-"
      },
      "source": [
        "from keras.layers import Input, Lambda, Dense, Flatten, GlobalAveragePooling2D\n",
        "from keras.models import Model\n",
        "from keras.applications.vgg16 import VGG16\n",
        "from keras.applications.vgg16 import preprocess_input\n",
        "from keras.preprocessing import image\n",
        "from tensorflow import keras\n",
        "from keras.preprocessing.image import ImageDataGenerator\n",
        "from keras.models import Sequential\n",
        "import numpy as np\n",
        "from glob import glob\n",
        "import matplotlib.pyplot as plt\n",
        "import tensorflow as tf"
      ],
      "execution_count": null,
      "outputs": []
    },
    {
      "cell_type": "code",
      "metadata": {
        "colab": {
          "base_uri": "https://localhost:8080/"
        },
        "id": "5Oi92TbFfSgx",
        "outputId": "7543319f-30ff-4696-a5c2-2ef7bda4fa54"
      },
      "source": [
        "from google.colab import drive\n",
        "drive.mount('/content/drive')"
      ],
      "execution_count": null,
      "outputs": [
        {
          "output_type": "stream",
          "text": [
            "Drive already mounted at /content/drive; to attempt to forcibly remount, call drive.mount(\"/content/drive\", force_remount=True).\n"
          ],
          "name": "stdout"
        }
      ]
    },
    {
      "cell_type": "code",
      "metadata": {
        "id": "1k_TXevac9OB"
      },
      "source": [
        "image_size = [224, 224]\n",
        "batch_size = 50"
      ],
      "execution_count": null,
      "outputs": []
    },
    {
      "cell_type": "code",
      "metadata": {
        "id": "BfN7YGVNbupn"
      },
      "source": [
        "#Creating model and freezing all layers except the last two\n",
        "\n",
        "vgg = VGG16(input_shape=image_size + [3], weights='imagenet', include_top=False)\n",
        "\n",
        "for layer in vgg.layers[0:-2]:\n",
        "  layer.trainable = False"
      ],
      "execution_count": null,
      "outputs": []
    },
    {
      "cell_type": "code",
      "metadata": {
        "colab": {
          "base_uri": "https://localhost:8080/"
        },
        "id": "z2uvYahMdBJ1",
        "outputId": "ad496d44-37da-4450-df7e-34422d042f77"
      },
      "source": [
        "#Creating model and printing model summary\n",
        "\n",
        "folders = glob('/content/drive/Shareddrives/apm_cnn_trial/trial_2/train_brand_and_model_2/*')\n",
        "  \n",
        "x = Flatten()(vgg.output)\n",
        "prediction = Dense(len(folders), activation='softmax')(x)\n",
        "model = Model(inputs=vgg.input, outputs=prediction)\n",
        "model.summary()"
      ],
      "execution_count": null,
      "outputs": [
        {
          "output_type": "stream",
          "text": [
            "Model: \"functional_1\"\n",
            "_________________________________________________________________\n",
            "Layer (type)                 Output Shape              Param #   \n",
            "=================================================================\n",
            "input_1 (InputLayer)         [(None, 224, 224, 3)]     0         \n",
            "_________________________________________________________________\n",
            "block1_conv1 (Conv2D)        (None, 224, 224, 64)      1792      \n",
            "_________________________________________________________________\n",
            "block1_conv2 (Conv2D)        (None, 224, 224, 64)      36928     \n",
            "_________________________________________________________________\n",
            "block1_pool (MaxPooling2D)   (None, 112, 112, 64)      0         \n",
            "_________________________________________________________________\n",
            "block2_conv1 (Conv2D)        (None, 112, 112, 128)     73856     \n",
            "_________________________________________________________________\n",
            "block2_conv2 (Conv2D)        (None, 112, 112, 128)     147584    \n",
            "_________________________________________________________________\n",
            "block2_pool (MaxPooling2D)   (None, 56, 56, 128)       0         \n",
            "_________________________________________________________________\n",
            "block3_conv1 (Conv2D)        (None, 56, 56, 256)       295168    \n",
            "_________________________________________________________________\n",
            "block3_conv2 (Conv2D)        (None, 56, 56, 256)       590080    \n",
            "_________________________________________________________________\n",
            "block3_conv3 (Conv2D)        (None, 56, 56, 256)       590080    \n",
            "_________________________________________________________________\n",
            "block3_pool (MaxPooling2D)   (None, 28, 28, 256)       0         \n",
            "_________________________________________________________________\n",
            "block4_conv1 (Conv2D)        (None, 28, 28, 512)       1180160   \n",
            "_________________________________________________________________\n",
            "block4_conv2 (Conv2D)        (None, 28, 28, 512)       2359808   \n",
            "_________________________________________________________________\n",
            "block4_conv3 (Conv2D)        (None, 28, 28, 512)       2359808   \n",
            "_________________________________________________________________\n",
            "block4_pool (MaxPooling2D)   (None, 14, 14, 512)       0         \n",
            "_________________________________________________________________\n",
            "block5_conv1 (Conv2D)        (None, 14, 14, 512)       2359808   \n",
            "_________________________________________________________________\n",
            "block5_conv2 (Conv2D)        (None, 14, 14, 512)       2359808   \n",
            "_________________________________________________________________\n",
            "block5_conv3 (Conv2D)        (None, 14, 14, 512)       2359808   \n",
            "_________________________________________________________________\n",
            "block5_pool (MaxPooling2D)   (None, 7, 7, 512)         0         \n",
            "_________________________________________________________________\n",
            "flatten (Flatten)            (None, 25088)             0         \n",
            "_________________________________________________________________\n",
            "dense (Dense)                (None, 157)               3938973   \n",
            "=================================================================\n",
            "Total params: 18,653,661\n",
            "Trainable params: 6,298,781\n",
            "Non-trainable params: 12,354,880\n",
            "_________________________________________________________________\n"
          ],
          "name": "stdout"
        }
      ]
    },
    {
      "cell_type": "code",
      "metadata": {
        "id": "zmA6zqh3c6oR"
      },
      "source": [
        "model.compile(\n",
        "  loss='categorical_crossentropy',\n",
        "  optimizer='adam',\n",
        "  metrics=['accuracy']\n",
        ")"
      ],
      "execution_count": null,
      "outputs": []
    },
    {
      "cell_type": "code",
      "metadata": {
        "colab": {
          "base_uri": "https://localhost:8080/"
        },
        "id": "0tLv9JCbdHKt",
        "outputId": "55bf38a3-35ee-48dc-b5ba-2bc4942743c8"
      },
      "source": [
        "#Creating training and test sets and rescaling images\n",
        "\n",
        "train_datagen = ImageDataGenerator(rescale = 1./255,shear_range = 0.2,zoom_range = 0.2,horizontal_flip = True)\n",
        "test_datagen = ImageDataGenerator(rescale = 1./255)\n",
        "\n",
        "training_set = train_datagen.flow_from_directory('/content/drive/Shareddrives/apm_cnn_trial/trial_2/train_brand_and_model_2',\n",
        "                                                 seed = 42,\n",
        "                                                 target_size = image_size,\n",
        "                                                 batch_size = batch_size,\n",
        "                                                 class_mode = 'categorical')\n",
        "\n",
        "test_set = test_datagen.flow_from_directory('/content/drive/Shareddrives/apm_cnn_trial/trial_2/test_brand_and_model_2',\n",
        "                                            seed = 42,\n",
        "                                            target_size = image_size,\n",
        "                                            batch_size = batch_size,\n",
        "                                            class_mode = 'categorical')"
      ],
      "execution_count": null,
      "outputs": [
        {
          "output_type": "stream",
          "text": [
            "Found 12948 images belonging to 157 classes.\n",
            "Found 3237 images belonging to 157 classes.\n"
          ],
          "name": "stdout"
        }
      ]
    },
    {
      "cell_type": "code",
      "metadata": {
        "colab": {
          "base_uri": "https://localhost:8080/"
        },
        "id": "Zj42QBZrdJcy",
        "outputId": "71a9d978-4d7e-40db-b233-f139a5c9eb87"
      },
      "source": [
        "# fit the model\n",
        "r = model.fit_generator(\n",
        "  training_set,\n",
        "  validation_data=test_set,\n",
        "  epochs=10,\n",
        "  steps_per_epoch=len(training_set),\n",
        "  validation_steps=len(test_set)\n",
        ")"
      ],
      "execution_count": null,
      "outputs": [
        {
          "output_type": "stream",
          "text": [
            "WARNING:tensorflow:From <ipython-input-9-1c322bf439c5>:7: Model.fit_generator (from tensorflow.python.keras.engine.training) is deprecated and will be removed in a future version.\n",
            "Instructions for updating:\n",
            "Please use Model.fit, which supports generators.\n",
            "Epoch 1/10\n",
            "259/259 [==============================] - 277s 1s/step - loss: 4.1665 - accuracy: 0.1145 - val_loss: 3.2417 - val_accuracy: 0.2308\n",
            "Epoch 2/10\n",
            "259/259 [==============================] - 274s 1s/step - loss: 2.6199 - accuracy: 0.3499 - val_loss: 2.5945 - val_accuracy: 0.3630\n",
            "Epoch 3/10\n",
            "259/259 [==============================] - 273s 1s/step - loss: 1.9464 - accuracy: 0.4907 - val_loss: 2.3417 - val_accuracy: 0.4167\n",
            "Epoch 4/10\n",
            "259/259 [==============================] - 273s 1s/step - loss: 1.5409 - accuracy: 0.5912 - val_loss: 2.3619 - val_accuracy: 0.4368\n",
            "Epoch 5/10\n",
            "259/259 [==============================] - 268s 1s/step - loss: 1.2560 - accuracy: 0.6601 - val_loss: 2.2634 - val_accuracy: 0.4603\n",
            "Epoch 6/10\n",
            "259/259 [==============================] - 273s 1s/step - loss: 1.1002 - accuracy: 0.6956 - val_loss: 2.3309 - val_accuracy: 0.4730\n",
            "Epoch 7/10\n",
            "259/259 [==============================] - 274s 1s/step - loss: 0.9045 - accuracy: 0.7424 - val_loss: 2.3186 - val_accuracy: 0.4810\n",
            "Epoch 8/10\n",
            "259/259 [==============================] - 269s 1s/step - loss: 0.8078 - accuracy: 0.7695 - val_loss: 2.4305 - val_accuracy: 0.4773\n",
            "Epoch 9/10\n",
            "259/259 [==============================] - 272s 1s/step - loss: 0.7101 - accuracy: 0.7926 - val_loss: 2.5086 - val_accuracy: 0.4863\n",
            "Epoch 10/10\n",
            "259/259 [==============================] - 273s 1s/step - loss: 0.6169 - accuracy: 0.8165 - val_loss: 2.7806 - val_accuracy: 0.4745\n"
          ],
          "name": "stdout"
        }
      ]
    },
    {
      "cell_type": "code",
      "metadata": {
        "id": "Y5PZWSTDhcfJ",
        "colab": {
          "base_uri": "https://localhost:8080/",
          "height": 530
        },
        "outputId": "aafc9717-a4d5-4db9-d507-2d7771123091"
      },
      "source": [
        "# loss for r\n",
        "plt.plot(r.history['loss'], label='train loss')\n",
        "plt.plot(r.history['val_loss'], label='test loss')\n",
        "plt.legend()\n",
        "plt.show()\n",
        "plt.savefig('LossVal_loss')\n",
        "\n",
        "# accuracies for r\n",
        "plt.plot(r.history['accuracy'], label='train accuracy')\n",
        "plt.plot(r.history['val_accuracy'], label='test accuracy')\n",
        "plt.legend()\n",
        "plt.show()\n",
        "plt.savefig('AccVal_acc')"
      ],
      "execution_count": null,
      "outputs": [
        {
          "output_type": "display_data",
          "data": {
            "image/png": "[encoded data removed]",
            "text/plain": [
              "<Figure size 432x288 with 1 Axes>"
            ]
          },
          "metadata": {
            "tags": [],
            "needs_background": "light"
          }
        },
        {
          "output_type": "display_data",
          "data": {
            "image/png": "[encoded data removed]",
            "text/plain": [
              "<Figure size 432x288 with 1 Axes>"
            ]
          },
          "metadata": {
            "tags": [],
            "needs_background": "light"
          }
        },
        {
          "output_type": "display_data",
          "data": {
            "text/plain": [
              "<Figure size 432x288 with 0 Axes>"
            ]
          },
          "metadata": {
            "tags": []
          }
        }
      ]
    },
    {
      "cell_type": "code",
      "metadata": {
        "id": "e7qg05YyhfnJ",
        "colab": {
          "base_uri": "https://localhost:8080/"
        },
        "outputId": "82b3c141-bcf6-4c8d-c3d0-2a5eca91a2d4"
      },
      "source": [
        "#Save model\n",
        "\n",
        "import tensorflow as tf\n",
        "\n",
        "from keras.models import load_model\n",
        "\n",
        "model.save('/content/drive/Shareddrives/apm_cnn_trial/trial_2/transfer_learning_brand_and_model/saved_models/vgg16_model_jenny')"
      ],
      "execution_count": null,
      "outputs": [
        {
          "output_type": "stream",
          "text": [
            "WARNING:tensorflow:From /usr/local/lib/python3.6/dist-packages/tensorflow/python/training/tracking/tracking.py:111: Model.state_updates (from tensorflow.python.keras.engine.training) is deprecated and will be removed in a future version.\n",
            "Instructions for updating:\n",
            "This property should not be used in TensorFlow 2.0, as updates are applied automatically.\n",
            "WARNING:tensorflow:From /usr/local/lib/python3.6/dist-packages/tensorflow/python/training/tracking/tracking.py:111: Layer.updates (from tensorflow.python.keras.engine.base_layer) is deprecated and will be removed in a future version.\n",
            "Instructions for updating:\n",
            "This property should not be used in TensorFlow 2.0, as updates are applied automatically.\n",
            "INFO:tensorflow:Assets written to: /content/drive/Shareddrives/apm_cnn_trial/trial_2/transfer_learning_brand_and_model/saved_models/vgg16_model_jenny/assets\n"
          ],
          "name": "stdout"
        }
      ]
    }
  ]
}
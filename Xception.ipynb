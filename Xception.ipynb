{
  "nbformat": 4,
  "nbformat_minor": 0,
  "metadata": {
    "colab": {
      "name": "Xception_edit.ipynb",
      "provenance": [],
      "collapsed_sections": []
    },
    "kernelspec": {
      "name": "python3",
      "display_name": "Python 3"
    },
    "accelerator": "GPU"
  },
  "cells": [
    {
      "cell_type": "code",
      "metadata": {
        "colab": {
          "base_uri": "https://localhost:8080/"
        },
        "id": "I3_QAxQPlovs",
        "outputId": "74f762ce-a62d-440f-ee8a-5339b54e0d7d"
      },
      "source": [
        "import numpy as np\n",
        "import pandas as pd\n",
        "import tensorflow as tf\n",
        "import matplotlib.pyplot as plt\n",
        "import os\n",
        "import PIL\n",
        "from tensorflow.keras.preprocessing import image_dataset_from_directory\n",
        "from google.colab import drive\n",
        "drive.mount('/content/drive')"
      ],
      "execution_count": null,
      "outputs": [
        {
          "output_type": "stream",
          "text": [
            "Mounted at /content/drive\n"
          ],
          "name": "stdout"
        }
      ]
    },
    {
      "cell_type": "code",
      "metadata": {
        "colab": {
          "base_uri": "https://localhost:8080/"
        },
        "id": "YehXjdFkl5Nl",
        "outputId": "53eb1def-3ca0-4608-f9e7-2009ce080fe1"
      },
      "source": [
        "!ls /content/drive/Shareddrives/apm_cnn_trial/trial_2/train_brand_and_model_2"
      ],
      "execution_count": null,
      "outputs": [
        {
          "output_type": "stream",
          "text": [
            "acuraintegra\t      chrysler300\t infinitig\n",
            "acurarl\t\t      chrysleraspen\t infinitiqx56\n",
            "acuratl\t\t      chryslercrossfire  isuzuascender\n",
            "acuratsx\t      chryslerpt\t jaguarxk\n",
            "acurazdx\t      chryslersebring\t jeepcompass\n",
            "amgeneral\t      chryslertown\t jeepgrand\n",
            "astonmartin\t      daewoonubira\t jeepliberty\n",
            "audi100\t\t      dodgecaliber\t jeeppatriot\n",
            "audia5\t\t      dodgecaravan\t jeepwrangler\n",
            "audir8\t\t      dodgechallenger\t lamborghiniaventador\n",
            "audirs\t\t      dodgecharger\t lamborghinidiablo\n",
            "audis4\t\t      dodgedakota\t lamborghinigallardo\n",
            "audis5\t\t      dodgedurango\t lamborghinireventon\n",
            "audis6\t\t      dodgejourney\t landrover\n",
            "auditt\t\t      dodgemagnum\t lincolntown\n",
            "auditts\t\t      dodgeram\t\t maybachlandaulet\n",
            "audiv8\t\t      dodgesprinter\t mazdatribute\n",
            "bentleyarnage\t      eagletalon\t mclarenmp4-12c\n",
            "bentleycontinental    ferrari458\t mercedes-benz300-class\n",
            "bentleymulsanne       ferraricalifornia  mercedes-benzc-class\n",
            "bmw1\t\t      ferrariff\t\t mercedes-benze-class\n",
            "bmw3\t\t      fiat500\t\t mercedes-benzs-class\n",
            "bmw6\t\t      fiskerkarma\t mercedes-benzsl-class\n",
            "bmwactivehybrid       fordedge\t\t mercedes-benzsprinter\n",
            "bmwm3\t\t      forde-series\t minicooper\n",
            "bmwm5\t\t      fordexpedition\t mitsubishilancer\n",
            "bmwm6\t\t      fordf-150\t\t nissan240sx\n",
            "bmwx3\t\t      fordf-450\t\t nissanjuke\n",
            "bmwx5\t\t      fordfiesta\t nissanleaf\n",
            "bmwx6\t\t      fordfocus\t\t nissannv\n",
            "bmwz4\t\t      fordfreestar\t plymouthneon\n",
            "bugattiveyron\t      fordgt\t\t porschepanamera\n",
            "buickenclave\t      fordmustang\t ramcv\n",
            "buickrainier\t      fordranger\t rolls-royceghost\n",
            "buickregal\t      geometro\t\t rolls-roycephantom\n",
            "buickverano\t      gmcacadia\t\t scionxd\n",
            "cadillaccts-v\t      gmccanyon\t\t smartfortwo\n",
            "cadillacescalade      gmcsavana\t\t spykerc8\n",
            "cadillacsrx\t      gmcterrain\t suzukiaerio\n",
            "chevroletavalanche    gmcyukon\t\t suzukikizashi\n",
            "chevroletcamaro       hondaaccord\t suzukisx4\n",
            "chevroletcobalt       hondaodyssey\t teslamodel\n",
            "chevroletcorvette     hummerh2\t\t toyota4runner\n",
            "chevroletexpress      hummerh3t\t\t toyotacamry\n",
            "chevrolethhr\t      hyundaiaccent\t toyotacorolla\n",
            "chevroletimpala       hyundaiazera\t toyotasequoia\n",
            "chevroletmalibu       hyundaielantra\t volkswagenbeetle\n",
            "chevroletmonte\t      hyundaigenesis\t volkswagengolf\n",
            "chevroletsilverado    hyundaisanta\t volvo240\n",
            "chevroletsonic\t      hyundaisonata\t volvoc30\n",
            "chevrolettahoe\t      hyundaitucson\t volvoxc90\n",
            "chevrolettrailblazer  hyundaiveloster\n",
            "chevrolettraverse     hyundaiveracruz\n"
          ],
          "name": "stdout"
        }
      ]
    },
    {
      "cell_type": "code",
      "metadata": {
        "colab": {
          "base_uri": "https://localhost:8080/"
        },
        "id": "yro68UfRl5QL",
        "outputId": "906384c9-ddd8-4585-c7be-fd0a2671b33c"
      },
      "source": [
        "img_height = 224\n",
        "img_width = 224\n",
        "batch_size = 64\n",
        "\n",
        "train_ds = image_dataset_from_directory(\n",
        "  \"/content/drive/Shareddrives/apm_cnn_trial/trial_2/train_brand_and_model_2\",\n",
        "  validation_split=0.2,\n",
        "  subset=\"training\",\n",
        "  seed=123,\n",
        "  image_size=(img_height, img_width),\n",
        "  batch_size=batch_size)\n",
        "\n",
        "val_ds = image_dataset_from_directory(\n",
        "  \"/content/drive/Shareddrives/apm_cnn_trial/trial_2/train_brand_and_model_2\",\n",
        "  validation_split=0.2,\n",
        "  subset=\"validation\",\n",
        "  seed=123,\n",
        "  image_size=(img_height, img_width),\n",
        "  batch_size=batch_size)"
      ],
      "execution_count": null,
      "outputs": [
        {
          "output_type": "stream",
          "text": [
            "Found 12948 files belonging to 157 classes.\n",
            "Using 10359 files for training.\n",
            "Found 12948 files belonging to 157 classes.\n",
            "Using 2589 files for validation.\n"
          ],
          "name": "stdout"
        }
      ]
    },
    {
      "cell_type": "code",
      "metadata": {
        "id": "ILxayHTpl5TO"
      },
      "source": [
        "AUTOTUNE = tf.data.experimental.AUTOTUNE\n",
        "\n",
        "train_ds = train_ds.cache().shuffle(1000).prefetch(buffer_size=AUTOTUNE)\n",
        "val_ds = val_ds.cache().prefetch(buffer_size=AUTOTUNE)"
      ],
      "execution_count": null,
      "outputs": []
    },
    {
      "cell_type": "code",
      "metadata": {
        "id": "a2FaPPOQl5V0"
      },
      "source": [
        "from tensorflow.keras.applications import Xception\n",
        "from tensorflow.keras import Input, Model, optimizers, losses, metrics\n",
        "from tensorflow.keras.layers import GlobalAveragePooling2D, Dense, Dropout\n",
        "from tensorflow.keras.callbacks import EarlyStopping"
      ],
      "execution_count": null,
      "outputs": []
    },
    {
      "cell_type": "code",
      "metadata": {
        "id": "zVCQ6k-Al5Ye",
        "colab": {
          "base_uri": "https://localhost:8080/"
        },
        "outputId": "13855a0b-71be-4ba2-e478-125b4bce81e9"
      },
      "source": [
        "base_model = Xception(\n",
        "    include_top = False,\n",
        "    weights = 'imagenet',\n",
        "    input_shape = (224, 224, 3),\n",
        ")"
      ],
      "execution_count": null,
      "outputs": [
        {
          "output_type": "stream",
          "text": [
            "Downloading data from https://storage.googleapis.com/tensorflow/keras-applications/xception/xception_weights_tf_dim_ordering_tf_kernels_notop.h5\n",
            "83689472/83683744 [==============================] - 1s 0us/step\n"
          ],
          "name": "stdout"
        }
      ]
    },
    {
      "cell_type": "code",
      "metadata": {
        "colab": {
          "base_uri": "https://localhost:8080/"
        },
        "id": "mI43rDBhDulS",
        "outputId": "7d8758e8-4be3-40d9-9d20-85d94bf699f3"
      },
      "source": [
        "print(\"There are currently {} layers in the model.\".format(len(base_model.layers)))"
      ],
      "execution_count": null,
      "outputs": [
        {
          "output_type": "stream",
          "text": [
            "There are currently 132 layers in the model.\n"
          ],
          "name": "stdout"
        }
      ]
    },
    {
      "cell_type": "code",
      "metadata": {
        "id": "xW0hB63jl5a6"
      },
      "source": [
        "for layer in base_model.layers[:110]:\n",
        "  layer.trainable = False"
      ],
      "execution_count": null,
      "outputs": []
    },
    {
      "cell_type": "code",
      "metadata": {
        "id": "HddPMrTbl5da"
      },
      "source": [
        "num_classes = 157\n",
        "inputs = Input(shape = (224, 224, 3))\n",
        "x = tf.keras.applications.xception.preprocess_input(inputs)\n",
        "x = base_model(inputs, training=False)\n",
        "x = GlobalAveragePooling2D()(x)\n",
        "x = Dropout(0.2)(x)\n",
        "\n",
        "outputs = Dense(num_classes)(x)\n",
        "model = Model(inputs, outputs)"
      ],
      "execution_count": null,
      "outputs": []
    },
    {
      "cell_type": "code",
      "metadata": {
        "id": "Lv-Q36aul5f7",
        "colab": {
          "base_uri": "https://localhost:8080/"
        },
        "outputId": "69af8e04-e94e-4315-ab0e-6a31a207b9ac"
      },
      "source": [
        "callbackX = EarlyStopping(monitor='val_loss',\n",
        "                          min_delta=0.001,\n",
        "                          patience=10,\n",
        "                          mode='auto')\n",
        "\n",
        "model.compile(optimizer=optimizers.Adam(learning_rate=1e-5),\n",
        "              loss=losses.SparseCategoricalCrossentropy(from_logits=True),\n",
        "              metrics=['accuracy'])\n",
        "\n",
        "model.summary()"
      ],
      "execution_count": null,
      "outputs": [
        {
          "output_type": "stream",
          "text": [
            "Model: \"functional_1\"\n",
            "_________________________________________________________________\n",
            "Layer (type)                 Output Shape              Param #   \n",
            "=================================================================\n",
            "input_2 (InputLayer)         [(None, 224, 224, 3)]     0         \n",
            "_________________________________________________________________\n",
            "xception (Functional)        (None, 7, 7, 2048)        20861480  \n",
            "_________________________________________________________________\n",
            "global_average_pooling2d (Gl (None, 2048)              0         \n",
            "_________________________________________________________________\n",
            "dropout (Dropout)            (None, 2048)              0         \n",
            "_________________________________________________________________\n",
            "dense (Dense)                (None, 157)               321693    \n",
            "=================================================================\n",
            "Total params: 21,183,173\n",
            "Trainable params: 8,186,061\n",
            "Non-trainable params: 12,997,112\n",
            "_________________________________________________________________\n"
          ],
          "name": "stdout"
        }
      ]
    },
    {
      "cell_type": "code",
      "metadata": {
        "colab": {
          "base_uri": "https://localhost:8080/"
        },
        "id": "r3OkYM2BE8HL",
        "outputId": "153ea7ae-970b-4331-90a3-9bb571ddf8da"
      },
      "source": [
        "initial_epochs = 20\n",
        "\n",
        "initial_loss, initial_accuracy = model.evaluate(val_ds)"
      ],
      "execution_count": null,
      "outputs": [
        {
          "output_type": "stream",
          "text": [
            "41/41 [==============================] - 484s 12s/step - loss: 28.0000 - accuracy: 0.0042\n"
          ],
          "name": "stdout"
        }
      ]
    },
    {
      "cell_type": "code",
      "metadata": {
        "colab": {
          "base_uri": "https://localhost:8080/"
        },
        "id": "73GW-zS_FM2-",
        "outputId": "2904274e-f460-47d4-a983-34e8bf3b6ee9"
      },
      "source": [
        "print(\"initial loss: {:.3f}\".format(initial_loss))\n",
        "print(\"initial accuracy: {:.3f}\".format(initial_accuracy))"
      ],
      "execution_count": null,
      "outputs": [
        {
          "output_type": "stream",
          "text": [
            "initial loss: 28.000\n",
            "initial accuracy: 0.004\n"
          ],
          "name": "stdout"
        }
      ]
    },
    {
      "cell_type": "code",
      "metadata": {
        "colab": {
          "base_uri": "https://localhost:8080/"
        },
        "id": "DK5ZnvocmVi_",
        "outputId": "ccbe82d3-45aa-48a6-e2ef-679e821f4348"
      },
      "source": [
        "history = model.fit(train_ds,\n",
        "                    epochs=initial_epochs,\n",
        "                    callbacks=callbackX,\n",
        "                    validation_data=val_ds)"
      ],
      "execution_count": null,
      "outputs": [
        {
          "output_type": "stream",
          "text": [
            "Epoch 1/20\n",
            "162/162 [==============================] - 66s 407ms/step - loss: 6.2786 - accuracy: 0.0060 - val_loss: 5.0743 - val_accuracy: 0.0070\n",
            "Epoch 2/20\n",
            "162/162 [==============================] - 64s 395ms/step - loss: 5.0592 - accuracy: 0.0088 - val_loss: 5.0648 - val_accuracy: 0.0081\n",
            "Epoch 3/20\n",
            "162/162 [==============================] - 64s 393ms/step - loss: 5.0506 - accuracy: 0.0113 - val_loss: 5.0641 - val_accuracy: 0.0089\n",
            "Epoch 4/20\n",
            "162/162 [==============================] - 64s 393ms/step - loss: 5.0446 - accuracy: 0.0126 - val_loss: 5.0626 - val_accuracy: 0.0127\n",
            "Epoch 5/20\n",
            "162/162 [==============================] - 64s 394ms/step - loss: 5.0389 - accuracy: 0.0149 - val_loss: 5.0617 - val_accuracy: 0.0170\n",
            "Epoch 6/20\n",
            "162/162 [==============================] - 64s 393ms/step - loss: 5.0301 - accuracy: 0.0163 - val_loss: 5.0558 - val_accuracy: 0.0185\n",
            "Epoch 7/20\n",
            "162/162 [==============================] - 64s 394ms/step - loss: 5.0197 - accuracy: 0.0186 - val_loss: 5.0652 - val_accuracy: 0.0228\n",
            "Epoch 8/20\n",
            "162/162 [==============================] - 64s 394ms/step - loss: 5.0045 - accuracy: 0.0225 - val_loss: 5.0509 - val_accuracy: 0.0263\n",
            "Epoch 9/20\n",
            "162/162 [==============================] - 64s 394ms/step - loss: 4.9892 - accuracy: 0.0244 - val_loss: 5.0478 - val_accuracy: 0.0259\n",
            "Epoch 10/20\n",
            "162/162 [==============================] - 64s 393ms/step - loss: 4.9694 - accuracy: 0.0299 - val_loss: 5.0393 - val_accuracy: 0.0301\n",
            "Epoch 11/20\n",
            "162/162 [==============================] - 64s 393ms/step - loss: 4.9432 - accuracy: 0.0302 - val_loss: 5.0326 - val_accuracy: 0.0286\n",
            "Epoch 12/20\n",
            "162/162 [==============================] - 64s 394ms/step - loss: 4.9181 - accuracy: 0.0298 - val_loss: 5.0331 - val_accuracy: 0.0274\n",
            "Epoch 13/20\n",
            "162/162 [==============================] - 64s 394ms/step - loss: 4.8912 - accuracy: 0.0348 - val_loss: 5.0342 - val_accuracy: 0.0286\n",
            "Epoch 14/20\n",
            "162/162 [==============================] - 64s 394ms/step - loss: 4.8620 - accuracy: 0.0373 - val_loss: 5.0304 - val_accuracy: 0.0321\n",
            "Epoch 15/20\n",
            "162/162 [==============================] - 64s 394ms/step - loss: 4.8269 - accuracy: 0.0380 - val_loss: 5.0251 - val_accuracy: 0.0294\n",
            "Epoch 16/20\n",
            "162/162 [==============================] - 64s 394ms/step - loss: 4.7929 - accuracy: 0.0436 - val_loss: 5.0217 - val_accuracy: 0.0297\n",
            "Epoch 17/20\n",
            "162/162 [==============================] - 64s 394ms/step - loss: 4.7629 - accuracy: 0.0458 - val_loss: 5.0402 - val_accuracy: 0.0336\n",
            "Epoch 18/20\n",
            "162/162 [==============================] - 64s 394ms/step - loss: 4.7301 - accuracy: 0.0514 - val_loss: 5.0387 - val_accuracy: 0.0274\n",
            "Epoch 19/20\n",
            "162/162 [==============================] - 64s 394ms/step - loss: 4.6858 - accuracy: 0.0536 - val_loss: 5.0419 - val_accuracy: 0.0317\n",
            "Epoch 20/20\n",
            "162/162 [==============================] - 64s 394ms/step - loss: 4.6512 - accuracy: 0.0551 - val_loss: 5.0529 - val_accuracy: 0.0328\n"
          ],
          "name": "stdout"
        }
      ]
    },
    {
      "cell_type": "code",
      "metadata": {
        "colab": {
          "base_uri": "https://localhost:8080/",
          "height": 513
        },
        "id": "3O4UwefHyfOj",
        "outputId": "7b5f92a4-6096-4aed-ea68-d656bd136c99"
      },
      "source": [
        "accuracy = history.history['accuracy']\n",
        "val_accuracy = history.history['val_accuracy']\n",
        "\n",
        "loss = history.history['loss']\n",
        "val_loss = history.history['val_loss']\n",
        "\n",
        "epochs_range = range(initial_epochs)\n",
        "\n",
        "plt.figure(figsize=(8, 8))\n",
        "plt.subplot(2, 1, 1)\n",
        "plt.plot(accuracy, label='Training Accuracy')\n",
        "plt.plot(val_accuracy, label='Validation Accuracy')\n",
        "plt.legend(loc='best')\n",
        "plt.title('Training and Validation Accuracy')\n",
        "plt.ylabel('accuracy')\n",
        "\n",
        "plt.subplot(2, 1, 2)\n",
        "plt.plot(loss, label='Training Loss')\n",
        "plt.plot(val_loss, label='Validation Loss')\n",
        "plt.legend(loc='best')\n",
        "plt.title('Training and Validation Loss')\n",
        "plt.ylabel('Categorical Cross Entropy')\n",
        "plt.xlabel('epoch')\n",
        "plt.show()"
      ],
      "execution_count": null,
      "outputs": [
        {
          "output_type": "display_data",
          "data": {
            "image/png": "[encoded data removed]",
            "text/plain": [
              "<Figure size 576x576 with 2 Axes>"
            ]
          },
          "metadata": {
            "tags": [],
            "needs_background": "light"
          }
        }
      ]
    },
    {
      "cell_type": "code",
      "metadata": {
        "id": "6J4skFGrzGlM",
        "colab": {
          "base_uri": "https://localhost:8080/"
        },
        "outputId": "e8b74709-9542-4bbf-de21-9829319586c6"
      },
      "source": [
        "test_ds = image_dataset_from_directory(\n",
        "    '/content/drive/Shareddrives/apm_cnn_trial/trial_2/test_brand_and_model_2',\n",
        "    seed=123,\n",
        "    image_size=(img_height, img_width),\n",
        "    batch_size=batch_size,\n",
        ")"
      ],
      "execution_count": null,
      "outputs": [
        {
          "output_type": "stream",
          "text": [
            "Found 3237 files belonging to 157 classes.\n"
          ],
          "name": "stdout"
        }
      ]
    },
    {
      "cell_type": "code",
      "metadata": {
        "id": "ew388_TDzGom",
        "colab": {
          "base_uri": "https://localhost:8080/"
        },
        "outputId": "ae464de1-4526-4173-ffa0-81dbeec6f79c"
      },
      "source": [
        "test_Loss, test_accuracy = model.evaluate(test_ds)"
      ],
      "execution_count": null,
      "outputs": [
        {
          "output_type": "stream",
          "text": [
            "51/51 [==============================] - 687s 13s/step - loss: 5.0138 - accuracy: 0.0303\n"
          ],
          "name": "stdout"
        }
      ]
    },
    {
      "cell_type": "code",
      "metadata": {
        "colab": {
          "base_uri": "https://localhost:8080/"
        },
        "id": "xIB1BZRqYOip",
        "outputId": "a9cf3e82-b0fd-4351-9d04-ff34ab38c6f5"
      },
      "source": [
        "print(\"initial loss: {:.3f}\".format(test_Loss))\n",
        "print(\"initial accuracy: {:.3f}\".format(test_accuracy))"
      ],
      "execution_count": null,
      "outputs": [
        {
          "output_type": "stream",
          "text": [
            "initial loss: 5.014\n",
            "initial accuracy: 0.030\n"
          ],
          "name": "stdout"
        }
      ]
    },
    {
      "cell_type": "code",
      "metadata": {
        "colab": {
          "base_uri": "https://localhost:8080/"
        },
        "id": "Sfx968mA-FUW",
        "outputId": "22a775a5-d1c6-4258-96db-ff87c98408a6"
      },
      "source": [
        "model.save('/content/drive/Shareddrives/apm_cnn_trial/trial_2/transfer_learning_brand_and_model/saved_models/Xception_2') "
      ],
      "execution_count": null,
      "outputs": [
        {
          "output_type": "stream",
          "text": [
            "WARNING:tensorflow:From /usr/local/lib/python3.6/dist-packages/tensorflow/python/training/tracking/tracking.py:111: Model.state_updates (from tensorflow.python.keras.engine.training) is deprecated and will be removed in a future version.\n",
            "Instructions for updating:\n",
            "This property should not be used in TensorFlow 2.0, as updates are applied automatically.\n",
            "WARNING:tensorflow:From /usr/local/lib/python3.6/dist-packages/tensorflow/python/training/tracking/tracking.py:111: Layer.updates (from tensorflow.python.keras.engine.base_layer) is deprecated and will be removed in a future version.\n",
            "Instructions for updating:\n",
            "This property should not be used in TensorFlow 2.0, as updates are applied automatically.\n",
            "INFO:tensorflow:Assets written to: /content/drive/Shareddrives/apm_cnn_trial/trial_2/transfer_learning_brand_and_model/saved_models/Xception_2/assets\n"
          ],
          "name": "stdout"
        }
      ]
    }
  ]
}